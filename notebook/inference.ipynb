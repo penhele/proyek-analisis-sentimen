{
  "nbformat": 4,
  "nbformat_minor": 0,
  "metadata": {
    "colab": {
      "provenance": []
    },
    "kernelspec": {
      "name": "python3",
      "display_name": "Python 3"
    },
    "language_info": {
      "name": "python"
    }
  },
  "cells": [
    {
      "cell_type": "markdown",
      "source": [
        "# Import Library"
      ],
      "metadata": {
        "id": "0y-n-M3Z2EYx"
      }
    },
    {
      "cell_type": "code",
      "execution_count": 1,
      "metadata": {
        "id": "6UM2k8W7v6_c"
      },
      "outputs": [],
      "source": [
        "import numpy as np\n",
        "import pickle\n",
        "import tensorflow as tf\n",
        "from tensorflow.keras.preprocessing.sequence import pad_sequences"
      ]
    },
    {
      "cell_type": "code",
      "source": [
        "lstm_model = tf.keras.models.load_model(\"lstm_sentiment_model.h5\")\n",
        "\n",
        "with open(\"svm_sentiment_model.pkl\", \"rb\") as f:\n",
        "    svm_model = pickle.load(f)\n",
        "\n",
        "with open(\"rf_sentiment_model.pkl\", \"rb\") as f:\n",
        "    rf_model = pickle.load(f)\n",
        "\n",
        "with open(\"vectorizer.pkl\", \"rb\") as f:\n",
        "    vectorizer = pickle.load(f)\n",
        "\n",
        "with open(\"tokenizer.pkl\", \"rb\") as f:\n",
        "    tokenizer = pickle.load(f)"
      ],
      "metadata": {
        "colab": {
          "base_uri": "https://localhost:8080/"
        },
        "id": "sAeyAEuQwR87",
        "outputId": "a54c3b05-b2e6-4897-c348-a0e080d8cdef"
      },
      "execution_count": 2,
      "outputs": [
        {
          "output_type": "stream",
          "name": "stderr",
          "text": [
            "WARNING:absl:Compiled the loaded model, but the compiled metrics have yet to be built. `model.compile_metrics` will be empty until you train or evaluate the model.\n"
          ]
        }
      ]
    },
    {
      "cell_type": "code",
      "source": [
        "new_texts = [\n",
        "    \"Aplikasinya sangat bagus!\",\n",
        "    \"Ribet untuk dipakai. Tidak ramah untuk orang tua\",\n",
        "    \"Pengirimannya standar. Tidak cepat dan tidak lambat.\"\n",
        "]\n",
        "\n",
        "new_sequences = tokenizer.texts_to_sequences(new_texts)\n",
        "new_padded = pad_sequences(new_sequences, maxlen=100)\n",
        "\n",
        "new_tfidf = vectorizer.transform(new_texts)"
      ],
      "metadata": {
        "id": "6PceFrQ-wUmZ"
      },
      "execution_count": 3,
      "outputs": []
    },
    {
      "cell_type": "code",
      "source": [
        "lstm_preds = np.argmax(lstm_model.predict(new_padded), axis=1)\n",
        "\n",
        "svm_preds = svm_model.predict(new_tfidf)\n",
        "\n",
        "rf_preds = rf_model.predict(new_tfidf)"
      ],
      "metadata": {
        "colab": {
          "base_uri": "https://localhost:8080/"
        },
        "id": "7LHHpawizsVN",
        "outputId": "fba669f9-a661-43bf-92d0-5b2a5912cdee"
      },
      "execution_count": 4,
      "outputs": [
        {
          "output_type": "stream",
          "name": "stdout",
          "text": [
            "\u001b[1m1/1\u001b[0m \u001b[32m━━━━━━━━━━━━━━━━━━━━\u001b[0m\u001b[37m\u001b[0m \u001b[1m1s\u001b[0m 714ms/step\n"
          ]
        }
      ]
    },
    {
      "cell_type": "code",
      "source": [
        "# Displaying the Prediction Results\n",
        "label_map = {0: \"negative\", 1: \"neutral\", 2: \"positive\"}\n",
        "\n",
        "print(\"\\nSentiment Prediction Results: \")\n",
        "for i, text in enumerate(new_texts):\n",
        "    print(f\"Text: {text}\")\n",
        "    print(f\"LSTM Prediction: {label_map[lstm_preds[i]]}\")\n",
        "    print(f\"SVM Prediction: {label_map[svm_preds[i]]}\")\n",
        "    print(f\"Random Forest Prediction: {label_map[rf_preds[i]]}\")\n",
        "    print(' ')"
      ],
      "metadata": {
        "colab": {
          "base_uri": "https://localhost:8080/"
        },
        "id": "SzxOLsEqzt0Q",
        "outputId": "aa2b6747-c7dd-4a59-a2da-cd0d9cad76dc"
      },
      "execution_count": 5,
      "outputs": [
        {
          "output_type": "stream",
          "name": "stdout",
          "text": [
            "\n",
            "Sentiment Prediction Results: \n",
            "Text: Aplikasinya sangat bagus!\n",
            "LSTM Prediction: positive\n",
            "SVM Prediction: positive\n",
            "Random Forest Prediction: positive\n",
            " \n",
            "Text: Ribet untuk dipakai. Tidak ramah untuk orang tua\n",
            "LSTM Prediction: negative\n",
            "SVM Prediction: neutral\n",
            "Random Forest Prediction: positive\n",
            " \n",
            "Text: Pengirimannya standar. Tidak cepat dan tidak lambat.\n",
            "LSTM Prediction: neutral\n",
            "SVM Prediction: neutral\n",
            "Random Forest Prediction: neutral\n",
            " \n"
          ]
        }
      ]
    },
    {
      "cell_type": "markdown",
      "source": [
        "# Kesimpulan"
      ],
      "metadata": {
        "id": "IQ7XLnrz2Kfj"
      }
    },
    {
      "cell_type": "markdown",
      "source": [
        "1. Hasil dari LSTM lebih unggul daripada SVM maupun Random Forest.\n",
        "2. Pada kasus kalimat kedua jawaban yang lebih masuk akal adalah LSTM, yaitu negative."
      ],
      "metadata": {
        "id": "ZN5u9B9z2Vff"
      }
    },
    {
      "cell_type": "markdown",
      "source": [
        "## Hal yang perlu dilakukan di masa akan datang\n",
        "- Preprocessing Text lebih teliti. Banyak orang yang menilai dengan ketikan tidak sesuai dengan list stopword dan slangword yang telah ada.\n",
        "- Menambahkan beberapa kata yang akan menggangu lexicon negative dan positive."
      ],
      "metadata": {
        "id": "0M2pe1KO2qdz"
      }
    }
  ]
}